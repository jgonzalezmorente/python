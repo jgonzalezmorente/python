{
 "cells": [
  {
   "cell_type": "markdown",
   "id": "544896cd",
   "metadata": {},
   "source": [
    "# Match"
   ]
  },
  {
   "cell_type": "code",
   "execution_count": 1,
   "id": "61b8178a",
   "metadata": {},
   "outputs": [
    {
     "name": "stdout",
     "output_type": "stream",
     "text": [
      "Nokia\n"
     ]
    }
   ],
   "source": [
    "serie = 'N-02'\n",
    "\n",
    "if serie == 'N-01':    \n",
    "    print( 'Samsung' )\n",
    "    \n",
    "elif serie == 'N-02':\n",
    "    print( 'Nokia' )\n",
    "    \n",
    "elif serie == 'N-03':\n",
    "    print( 'Motorola' )\n",
    "\n",
    "else:\n",
    "    print( 'No existe ese producto' )"
   ]
  },
  {
   "cell_type": "code",
   "execution_count": 4,
   "id": "31008bf5",
   "metadata": {},
   "outputs": [
    {
     "name": "stdout",
     "output_type": "stream",
     "text": [
      "Nokia\n"
     ]
    }
   ],
   "source": [
    "match serie:\n",
    "    case 'N-01':    \n",
    "        print( 'Samsung' )\n",
    "\n",
    "    case 'N-02':\n",
    "        print( 'Nokia' )\n",
    "\n",
    "    case 'N-03':\n",
    "        print( 'Motorola' )\n",
    "\n",
    "    case _:\n",
    "        print( 'No existe ese producto' )"
   ]
  },
  {
   "cell_type": "code",
   "execution_count": 13,
   "id": "d42735bf",
   "metadata": {},
   "outputs": [
    {
     "name": "stdout",
     "output_type": "stream",
     "text": [
      "Es un cliente!\n",
      "Federico 45 instructor\n",
      "Esto es una película\n",
      "Matrix Keanu Reeves Lana y Lilly Wachowski\n",
      "No se que es esto\n"
     ]
    }
   ],
   "source": [
    "cliente = {\n",
    "    'nombre': 'Federico',\n",
    "    'edad': 45,\n",
    "    'ocupacion': 'instructor'\n",
    "}\n",
    "\n",
    "pelicula = {\n",
    "    'titulo': 'Matrix',\n",
    "    'ficha_tecnica': {\n",
    "        'protagonista': 'Keanu Reeves',\n",
    "        'director': 'Lana y Lilly Wachowski'\n",
    "    }\n",
    "}\n",
    "\n",
    "elementos = [ cliente, pelicula, 'libro' ]\n",
    "\n",
    "for e in elementos:\n",
    "    match e:\n",
    "        case {\n",
    "            'nombre': nombre,\n",
    "            'edad': edad,\n",
    "            'ocupacion': ocupacion\n",
    "        }:\n",
    "            print( 'Es un cliente!' )\n",
    "            print( nombre, edad, ocupacion )\n",
    "        \n",
    "        case {\n",
    "            'titulo': titulo,\n",
    "            'ficha_tecnica': {\n",
    "                'protagonista': protagonista,\n",
    "                'director': director\n",
    "            }\n",
    "        }:\n",
    "            print( 'Esto es una película' )\n",
    "            print( titulo, protagonista, director )\n",
    "        \n",
    "        case _:\n",
    "            print( 'No se que es esto' )\n"
   ]
  }
 ],
 "metadata": {
  "kernelspec": {
   "display_name": "Python 3 (ipykernel)",
   "language": "python",
   "name": "python3"
  },
  "language_info": {
   "codemirror_mode": {
    "name": "ipython",
    "version": 3
   },
   "file_extension": ".py",
   "mimetype": "text/x-python",
   "name": "python",
   "nbconvert_exporter": "python",
   "pygments_lexer": "ipython3",
   "version": "3.10.4"
  }
 },
 "nbformat": 4,
 "nbformat_minor": 5
}
